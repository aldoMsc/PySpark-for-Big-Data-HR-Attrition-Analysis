{
 "cells": [
  {
   "cell_type": "code",
   "execution_count": 1,
   "metadata": {},
   "outputs": [],
   "source": [
    "import os\n",
    "import sys\n",
    "os.environ[\"JAVA_HOME\"] = \"JDK 8\"\n",
    "os.environ[\"PYSPARK_PYTHON\"] = sys.executable\n",
    "os.environ[\"PYSPARK_DRIVER_PYTHON\"] = sys.executable"
   ]
  },
  {
   "cell_type": "code",
   "execution_count": 2,
   "metadata": {},
   "outputs": [
    {
     "name": "stdout",
     "output_type": "stream",
     "text": [
      "+---+---------+-----------------+---------+--------------------+----------------+---------+--------------+-------------+--------------+-----------------------+------+----------+--------------+--------+--------------------+---------------+-------------+-------------+-----------+------------------+------+--------+-----------------+-----------------+------------------------+-------------+----------------+-----------------+---------------------+---------------+--------------+------------------+-----------------------+--------------------+\n",
      "|Age|Attrition|   BusinessTravel|DailyRate|          Department|DistanceFromHome|Education|EducationField|EmployeeCount|EmployeeNumber|EnvironmentSatisfaction|Gender|HourlyRate|JobInvolvement|JobLevel|             JobRole|JobSatisfaction|MaritalStatus|MonthlyIncome|MonthlyRate|NumCompaniesWorked|Over18|OverTime|PercentSalaryHike|PerformanceRating|RelationshipSatisfaction|StandardHours|StockOptionLevel|TotalWorkingYears|TrainingTimesLastYear|WorkLifeBalance|YearsAtCompany|YearsInCurrentRole|YearsSinceLastPromotion|YearsWithCurrManager|\n",
      "+---+---------+-----------------+---------+--------------------+----------------+---------+--------------+-------------+--------------+-----------------------+------+----------+--------------+--------+--------------------+---------------+-------------+-------------+-----------+------------------+------+--------+-----------------+-----------------+------------------------+-------------+----------------+-----------------+---------------------+---------------+--------------+------------------+-----------------------+--------------------+\n",
      "| 41|      Yes|    Travel_Rarely|     1102|               Sales|               1|        2| Life Sciences|            1|             1|                      2|Female|        94|             3|       2|     Sales Executive|              4|       Single|         5993|      19479|                 8|     Y|     Yes|               11|                3|                       1|           80|               0|                8|                    0|              1|             6|                 4|                      0|                   5|\n",
      "| 49|       No|Travel_Frequently|      279|Research & Develo...|               8|        1| Life Sciences|            1|             2|                      3|  Male|        61|             2|       2|  Research Scientist|              2|      Married|         5130|      24907|                 1|     Y|      No|               23|                4|                       4|           80|               1|               10|                    3|              3|            10|                 7|                      1|                   7|\n",
      "| 37|      Yes|    Travel_Rarely|     1373|Research & Develo...|               2|        2|         Other|            1|             4|                      4|  Male|        92|             2|       1|Laboratory Techni...|              3|       Single|         2090|       2396|                 6|     Y|     Yes|               15|                3|                       2|           80|               0|                7|                    3|              3|             0|                 0|                      0|                   0|\n",
      "| 33|       No|Travel_Frequently|     1392|Research & Develo...|               3|        4| Life Sciences|            1|             5|                      4|Female|        56|             3|       1|  Research Scientist|              3|      Married|         2909|      23159|                 1|     Y|     Yes|               11|                3|                       3|           80|               0|                8|                    3|              3|             8|                 7|                      3|                   0|\n",
      "| 27|       No|    Travel_Rarely|      591|Research & Develo...|               2|        1|       Medical|            1|             7|                      1|  Male|        40|             3|       1|Laboratory Techni...|              2|      Married|         3468|      16632|                 9|     Y|      No|               12|                3|                       4|           80|               1|                6|                    3|              3|             2|                 2|                      2|                   2|\n",
      "| 32|       No|Travel_Frequently|     1005|Research & Develo...|               2|        2| Life Sciences|            1|             8|                      4|  Male|        79|             3|       1|Laboratory Techni...|              4|       Single|         3068|      11864|                 0|     Y|      No|               13|                3|                       3|           80|               0|                8|                    2|              2|             7|                 7|                      3|                   6|\n",
      "| 59|       No|    Travel_Rarely|     1324|Research & Develo...|               3|        3|       Medical|            1|            10|                      3|Female|        81|             4|       1|Laboratory Techni...|              1|      Married|         2670|       9964|                 4|     Y|     Yes|               20|                4|                       1|           80|               3|               12|                    3|              2|             1|                 0|                      0|                   0|\n",
      "| 30|       No|    Travel_Rarely|     1358|Research & Develo...|              24|        1| Life Sciences|            1|            11|                      4|  Male|        67|             3|       1|Laboratory Techni...|              3|     Divorced|         2693|      13335|                 1|     Y|      No|               22|                4|                       2|           80|               1|                1|                    2|              3|             1|                 0|                      0|                   0|\n",
      "| 38|       No|Travel_Frequently|      216|Research & Develo...|              23|        3| Life Sciences|            1|            12|                      4|  Male|        44|             2|       3|Manufacturing Dir...|              3|       Single|         9526|       8787|                 0|     Y|      No|               21|                4|                       2|           80|               0|               10|                    2|              3|             9|                 7|                      1|                   8|\n",
      "| 36|       No|    Travel_Rarely|     1299|Research & Develo...|              27|        3|       Medical|            1|            13|                      3|  Male|        94|             3|       2|Healthcare Repres...|              3|      Married|         5237|      16577|                 6|     Y|      No|               13|                3|                       2|           80|               2|               17|                    3|              2|             7|                 7|                      7|                   7|\n",
      "| 35|       No|    Travel_Rarely|      809|Research & Develo...|              16|        3|       Medical|            1|            14|                      1|  Male|        84|             4|       1|Laboratory Techni...|              2|      Married|         2426|      16479|                 0|     Y|      No|               13|                3|                       3|           80|               1|                6|                    5|              3|             5|                 4|                      0|                   3|\n",
      "| 29|       No|    Travel_Rarely|      153|Research & Develo...|              15|        2| Life Sciences|            1|            15|                      4|Female|        49|             2|       2|Laboratory Techni...|              3|       Single|         4193|      12682|                 0|     Y|     Yes|               12|                3|                       4|           80|               0|               10|                    3|              3|             9|                 5|                      0|                   8|\n",
      "| 31|       No|    Travel_Rarely|      670|Research & Develo...|              26|        1| Life Sciences|            1|            16|                      1|  Male|        31|             3|       1|  Research Scientist|              3|     Divorced|         2911|      15170|                 1|     Y|      No|               17|                3|                       4|           80|               1|                5|                    1|              2|             5|                 2|                      4|                   3|\n",
      "| 34|       No|    Travel_Rarely|     1346|Research & Develo...|              19|        2|       Medical|            1|            18|                      2|  Male|        93|             3|       1|Laboratory Techni...|              4|     Divorced|         2661|       8758|                 0|     Y|      No|               11|                3|                       3|           80|               1|                3|                    2|              3|             2|                 2|                      1|                   2|\n",
      "| 28|      Yes|    Travel_Rarely|      103|Research & Develo...|              24|        3| Life Sciences|            1|            19|                      3|  Male|        50|             2|       1|Laboratory Techni...|              3|       Single|         2028|      12947|                 5|     Y|     Yes|               14|                3|                       2|           80|               0|                6|                    4|              3|             4|                 2|                      0|                   3|\n",
      "| 29|       No|    Travel_Rarely|     1389|Research & Develo...|              21|        4| Life Sciences|            1|            20|                      2|Female|        51|             4|       3|Manufacturing Dir...|              1|     Divorced|         9980|      10195|                 1|     Y|      No|               11|                3|                       3|           80|               1|               10|                    1|              3|            10|                 9|                      8|                   8|\n",
      "| 32|       No|    Travel_Rarely|      334|Research & Develo...|               5|        2| Life Sciences|            1|            21|                      1|  Male|        80|             4|       1|  Research Scientist|              2|     Divorced|         3298|      15053|                 0|     Y|     Yes|               12|                3|                       4|           80|               2|                7|                    5|              2|             6|                 2|                      0|                   5|\n",
      "| 22|       No|       Non-Travel|     1123|Research & Develo...|              16|        2|       Medical|            1|            22|                      4|  Male|        96|             4|       1|Laboratory Techni...|              4|     Divorced|         2935|       7324|                 1|     Y|     Yes|               13|                3|                       2|           80|               2|                1|                    2|              2|             1|                 0|                      0|                   0|\n",
      "| 53|       No|    Travel_Rarely|     1219|               Sales|               2|        4| Life Sciences|            1|            23|                      1|Female|        78|             2|       4|             Manager|              4|      Married|        15427|      22021|                 2|     Y|      No|               16|                3|                       3|           80|               0|               31|                    3|              3|            25|                 8|                      3|                   7|\n",
      "| 38|       No|    Travel_Rarely|      371|Research & Develo...|               2|        3| Life Sciences|            1|            24|                      4|  Male|        45|             3|       1|  Research Scientist|              4|       Single|         3944|       4306|                 5|     Y|     Yes|               11|                3|                       3|           80|               0|                6|                    3|              3|             3|                 2|                      1|                   2|\n",
      "+---+---------+-----------------+---------+--------------------+----------------+---------+--------------+-------------+--------------+-----------------------+------+----------+--------------+--------+--------------------+---------------+-------------+-------------+-----------+------------------+------+--------+-----------------+-----------------+------------------------+-------------+----------------+-----------------+---------------------+---------------+--------------+------------------+-----------------------+--------------------+\n",
      "only showing top 20 rows\n",
      "\n"
     ]
    }
   ],
   "source": [
    "from pyspark.sql import SparkSession\n",
    "\n",
    "spark = SparkSession.builder.appName(\"HR_att\").getOrCreate()\n",
    "\n",
    "Hr_Employee = \"C:/Users/aldom/Documents/Data_Enginnering/HR-Employee-Attrition.csv\"\n",
    "\n",
    "Attrition_df = spark.read.csv(Hr_Employee, header=True, inferSchema=True)\n",
    "\n",
    "Attrition_df.show()"
   ]
  },
  {
   "cell_type": "code",
   "execution_count": 3,
   "metadata": {},
   "outputs": [
    {
     "name": "stdout",
     "output_type": "stream",
     "text": [
      "+---+---------+-----------------+---------+--------------------+----------------+---------+--------------+--------------+-----------------------+------+----------+--------------+--------+--------------------+---------------+-------------+-------------+-----------+------------------+--------+-----------------+-----------------+------------------------+----------------+-----------------+---------------+--------------+--------------------+\n",
      "|Age|Attrition|   BusinessTravel|DailyRate|          Department|DistanceFromHome|Education|EducationField|EmployeeNumber|EnvironmentSatisfaction|Gender|HourlyRate|JobInvolvement|JobLevel|             JobRole|JobSatisfaction|MaritalStatus|MonthlyIncome|MonthlyRate|NumCompaniesWorked|OverTime|PercentSalaryHike|PerformanceRating|RelationshipSatisfaction|StockOptionLevel|TotalWorkingYears|WorkLifeBalance|YearsAtCompany|YearsWithCurrManager|\n",
      "+---+---------+-----------------+---------+--------------------+----------------+---------+--------------+--------------+-----------------------+------+----------+--------------+--------+--------------------+---------------+-------------+-------------+-----------+------------------+--------+-----------------+-----------------+------------------------+----------------+-----------------+---------------+--------------+--------------------+\n",
      "| 41|      Yes|    Travel_Rarely|     1102|               Sales|               1|        2| Life Sciences|             1|                      2|Female|        94|             3|       2|     Sales Executive|              4|       Single|         5993|      19479|                 8|     Yes|               11|                3|                       1|               0|                8|              1|             6|                   5|\n",
      "| 49|       No|Travel_Frequently|      279|Research & Develo...|               8|        1| Life Sciences|             2|                      3|  Male|        61|             2|       2|  Research Scientist|              2|      Married|         5130|      24907|                 1|      No|               23|                4|                       4|               1|               10|              3|            10|                   7|\n",
      "| 37|      Yes|    Travel_Rarely|     1373|Research & Develo...|               2|        2|         Other|             4|                      4|  Male|        92|             2|       1|Laboratory Techni...|              3|       Single|         2090|       2396|                 6|     Yes|               15|                3|                       2|               0|                7|              3|             0|                   0|\n",
      "| 33|       No|Travel_Frequently|     1392|Research & Develo...|               3|        4| Life Sciences|             5|                      4|Female|        56|             3|       1|  Research Scientist|              3|      Married|         2909|      23159|                 1|     Yes|               11|                3|                       3|               0|                8|              3|             8|                   0|\n",
      "| 27|       No|    Travel_Rarely|      591|Research & Develo...|               2|        1|       Medical|             7|                      1|  Male|        40|             3|       1|Laboratory Techni...|              2|      Married|         3468|      16632|                 9|      No|               12|                3|                       4|               1|                6|              3|             2|                   2|\n",
      "| 32|       No|Travel_Frequently|     1005|Research & Develo...|               2|        2| Life Sciences|             8|                      4|  Male|        79|             3|       1|Laboratory Techni...|              4|       Single|         3068|      11864|                 0|      No|               13|                3|                       3|               0|                8|              2|             7|                   6|\n",
      "| 59|       No|    Travel_Rarely|     1324|Research & Develo...|               3|        3|       Medical|            10|                      3|Female|        81|             4|       1|Laboratory Techni...|              1|      Married|         2670|       9964|                 4|     Yes|               20|                4|                       1|               3|               12|              2|             1|                   0|\n",
      "| 30|       No|    Travel_Rarely|     1358|Research & Develo...|              24|        1| Life Sciences|            11|                      4|  Male|        67|             3|       1|Laboratory Techni...|              3|     Divorced|         2693|      13335|                 1|      No|               22|                4|                       2|               1|                1|              3|             1|                   0|\n",
      "| 38|       No|Travel_Frequently|      216|Research & Develo...|              23|        3| Life Sciences|            12|                      4|  Male|        44|             2|       3|Manufacturing Dir...|              3|       Single|         9526|       8787|                 0|      No|               21|                4|                       2|               0|               10|              3|             9|                   8|\n",
      "| 36|       No|    Travel_Rarely|     1299|Research & Develo...|              27|        3|       Medical|            13|                      3|  Male|        94|             3|       2|Healthcare Repres...|              3|      Married|         5237|      16577|                 6|      No|               13|                3|                       2|               2|               17|              2|             7|                   7|\n",
      "| 35|       No|    Travel_Rarely|      809|Research & Develo...|              16|        3|       Medical|            14|                      1|  Male|        84|             4|       1|Laboratory Techni...|              2|      Married|         2426|      16479|                 0|      No|               13|                3|                       3|               1|                6|              3|             5|                   3|\n",
      "| 29|       No|    Travel_Rarely|      153|Research & Develo...|              15|        2| Life Sciences|            15|                      4|Female|        49|             2|       2|Laboratory Techni...|              3|       Single|         4193|      12682|                 0|     Yes|               12|                3|                       4|               0|               10|              3|             9|                   8|\n",
      "| 31|       No|    Travel_Rarely|      670|Research & Develo...|              26|        1| Life Sciences|            16|                      1|  Male|        31|             3|       1|  Research Scientist|              3|     Divorced|         2911|      15170|                 1|      No|               17|                3|                       4|               1|                5|              2|             5|                   3|\n",
      "| 34|       No|    Travel_Rarely|     1346|Research & Develo...|              19|        2|       Medical|            18|                      2|  Male|        93|             3|       1|Laboratory Techni...|              4|     Divorced|         2661|       8758|                 0|      No|               11|                3|                       3|               1|                3|              3|             2|                   2|\n",
      "| 28|      Yes|    Travel_Rarely|      103|Research & Develo...|              24|        3| Life Sciences|            19|                      3|  Male|        50|             2|       1|Laboratory Techni...|              3|       Single|         2028|      12947|                 5|     Yes|               14|                3|                       2|               0|                6|              3|             4|                   3|\n",
      "| 29|       No|    Travel_Rarely|     1389|Research & Develo...|              21|        4| Life Sciences|            20|                      2|Female|        51|             4|       3|Manufacturing Dir...|              1|     Divorced|         9980|      10195|                 1|      No|               11|                3|                       3|               1|               10|              3|            10|                   8|\n",
      "| 32|       No|    Travel_Rarely|      334|Research & Develo...|               5|        2| Life Sciences|            21|                      1|  Male|        80|             4|       1|  Research Scientist|              2|     Divorced|         3298|      15053|                 0|     Yes|               12|                3|                       4|               2|                7|              2|             6|                   5|\n",
      "| 22|       No|       Non-Travel|     1123|Research & Develo...|              16|        2|       Medical|            22|                      4|  Male|        96|             4|       1|Laboratory Techni...|              4|     Divorced|         2935|       7324|                 1|     Yes|               13|                3|                       2|               2|                1|              2|             1|                   0|\n",
      "| 53|       No|    Travel_Rarely|     1219|               Sales|               2|        4| Life Sciences|            23|                      1|Female|        78|             2|       4|             Manager|              4|      Married|        15427|      22021|                 2|      No|               16|                3|                       3|               0|               31|              3|            25|                   7|\n",
      "| 38|       No|    Travel_Rarely|      371|Research & Develo...|               2|        3| Life Sciences|            24|                      4|  Male|        45|             3|       1|  Research Scientist|              4|       Single|         3944|       4306|                 5|     Yes|               11|                3|                       3|               0|                6|              3|             3|                   2|\n",
      "+---+---------+-----------------+---------+--------------------+----------------+---------+--------------+--------------+-----------------------+------+----------+--------------+--------+--------------------+---------------+-------------+-------------+-----------+------------------+--------+-----------------+-----------------+------------------------+----------------+-----------------+---------------+--------------+--------------------+\n",
      "only showing top 20 rows\n",
      "\n"
     ]
    }
   ],
   "source": [
    "#Clearing reduntatd columns\n",
    "\n",
    "Attrition_df = Attrition_df.drop(\"EmployeeCount\")\n",
    "\n",
    "Attrition_df = Attrition_df.drop(\"Over18\")\n",
    "\n",
    "Attrition_df = Attrition_df.drop(\"StandardHours\")\n",
    "\n",
    "Attrition_df = Attrition_df.drop(\"TrainingTimesLastYear\")\n",
    "\n",
    "Attrition_df = Attrition_df.drop(\"YearsSinceLastPromotion\")\n",
    "\n",
    "Attrition_df = Attrition_df.drop(\"YearsInCurrentRole\")\n",
    "\n",
    "Attrition_df.show()"
   ]
  },
  {
   "cell_type": "code",
   "execution_count": 4,
   "metadata": {},
   "outputs": [
    {
     "name": "stdout",
     "output_type": "stream",
     "text": [
      "+---+---------+-----------------+----------+--------------------+------------------+---------+---------------+---------------+------------------------+------+-----------+---------------+---------+--------------------+----------------+--------------+--------------+------------+--------------------+---------+-------------------+------------------+-------------------------+------------------+-------------------+-----------------+----------------+-----------------------+\n",
      "|Age|Attrition|  business_travel|daily_rate|          Department|distance_from_home|Education|education_field|employee_number|environment_satisfaction|Gender|hourly_rate|job_involvement|job_level|            job_role|job_satisfaction|marital_status|monthly_income|monthly_rate|num_companies_worked|over_time|percent_salary_hike|performance_rating|relationship_satisfaction|stock_option_level|total_working_years|work_life_balance|years_at_company|years_with_curr_manager|\n",
      "+---+---------+-----------------+----------+--------------------+------------------+---------+---------------+---------------+------------------------+------+-----------+---------------+---------+--------------------+----------------+--------------+--------------+------------+--------------------+---------+-------------------+------------------+-------------------------+------------------+-------------------+-----------------+----------------+-----------------------+\n",
      "| 41|      Yes|    Travel_Rarely|      1102|               Sales|                 1|        2|  Life Sciences|              1|                       2|Female|         94|              3|        2|     Sales Executive|               4|        Single|          5993|       19479|                   8|      Yes|                 11|                 3|                        1|                 0|                  8|                1|               6|                      5|\n",
      "| 49|       No|Travel_Frequently|       279|Research & Develo...|                 8|        1|  Life Sciences|              2|                       3|  Male|         61|              2|        2|  Research Scientist|               2|       Married|          5130|       24907|                   1|       No|                 23|                 4|                        4|                 1|                 10|                3|              10|                      7|\n",
      "| 37|      Yes|    Travel_Rarely|      1373|Research & Develo...|                 2|        2|          Other|              4|                       4|  Male|         92|              2|        1|Laboratory Techni...|               3|        Single|          2090|        2396|                   6|      Yes|                 15|                 3|                        2|                 0|                  7|                3|               0|                      0|\n",
      "| 33|       No|Travel_Frequently|      1392|Research & Develo...|                 3|        4|  Life Sciences|              5|                       4|Female|         56|              3|        1|  Research Scientist|               3|       Married|          2909|       23159|                   1|      Yes|                 11|                 3|                        3|                 0|                  8|                3|               8|                      0|\n",
      "| 27|       No|    Travel_Rarely|       591|Research & Develo...|                 2|        1|        Medical|              7|                       1|  Male|         40|              3|        1|Laboratory Techni...|               2|       Married|          3468|       16632|                   9|       No|                 12|                 3|                        4|                 1|                  6|                3|               2|                      2|\n",
      "| 32|       No|Travel_Frequently|      1005|Research & Develo...|                 2|        2|  Life Sciences|              8|                       4|  Male|         79|              3|        1|Laboratory Techni...|               4|        Single|          3068|       11864|                   0|       No|                 13|                 3|                        3|                 0|                  8|                2|               7|                      6|\n",
      "| 59|       No|    Travel_Rarely|      1324|Research & Develo...|                 3|        3|        Medical|             10|                       3|Female|         81|              4|        1|Laboratory Techni...|               1|       Married|          2670|        9964|                   4|      Yes|                 20|                 4|                        1|                 3|                 12|                2|               1|                      0|\n",
      "| 30|       No|    Travel_Rarely|      1358|Research & Develo...|                24|        1|  Life Sciences|             11|                       4|  Male|         67|              3|        1|Laboratory Techni...|               3|      Divorced|          2693|       13335|                   1|       No|                 22|                 4|                        2|                 1|                  1|                3|               1|                      0|\n",
      "| 38|       No|Travel_Frequently|       216|Research & Develo...|                23|        3|  Life Sciences|             12|                       4|  Male|         44|              2|        3|Manufacturing Dir...|               3|        Single|          9526|        8787|                   0|       No|                 21|                 4|                        2|                 0|                 10|                3|               9|                      8|\n",
      "| 36|       No|    Travel_Rarely|      1299|Research & Develo...|                27|        3|        Medical|             13|                       3|  Male|         94|              3|        2|Healthcare Repres...|               3|       Married|          5237|       16577|                   6|       No|                 13|                 3|                        2|                 2|                 17|                2|               7|                      7|\n",
      "| 35|       No|    Travel_Rarely|       809|Research & Develo...|                16|        3|        Medical|             14|                       1|  Male|         84|              4|        1|Laboratory Techni...|               2|       Married|          2426|       16479|                   0|       No|                 13|                 3|                        3|                 1|                  6|                3|               5|                      3|\n",
      "| 29|       No|    Travel_Rarely|       153|Research & Develo...|                15|        2|  Life Sciences|             15|                       4|Female|         49|              2|        2|Laboratory Techni...|               3|        Single|          4193|       12682|                   0|      Yes|                 12|                 3|                        4|                 0|                 10|                3|               9|                      8|\n",
      "| 31|       No|    Travel_Rarely|       670|Research & Develo...|                26|        1|  Life Sciences|             16|                       1|  Male|         31|              3|        1|  Research Scientist|               3|      Divorced|          2911|       15170|                   1|       No|                 17|                 3|                        4|                 1|                  5|                2|               5|                      3|\n",
      "| 34|       No|    Travel_Rarely|      1346|Research & Develo...|                19|        2|        Medical|             18|                       2|  Male|         93|              3|        1|Laboratory Techni...|               4|      Divorced|          2661|        8758|                   0|       No|                 11|                 3|                        3|                 1|                  3|                3|               2|                      2|\n",
      "| 28|      Yes|    Travel_Rarely|       103|Research & Develo...|                24|        3|  Life Sciences|             19|                       3|  Male|         50|              2|        1|Laboratory Techni...|               3|        Single|          2028|       12947|                   5|      Yes|                 14|                 3|                        2|                 0|                  6|                3|               4|                      3|\n",
      "| 29|       No|    Travel_Rarely|      1389|Research & Develo...|                21|        4|  Life Sciences|             20|                       2|Female|         51|              4|        3|Manufacturing Dir...|               1|      Divorced|          9980|       10195|                   1|       No|                 11|                 3|                        3|                 1|                 10|                3|              10|                      8|\n",
      "| 32|       No|    Travel_Rarely|       334|Research & Develo...|                 5|        2|  Life Sciences|             21|                       1|  Male|         80|              4|        1|  Research Scientist|               2|      Divorced|          3298|       15053|                   0|      Yes|                 12|                 3|                        4|                 2|                  7|                2|               6|                      5|\n",
      "| 22|       No|       Non-Travel|      1123|Research & Develo...|                16|        2|        Medical|             22|                       4|  Male|         96|              4|        1|Laboratory Techni...|               4|      Divorced|          2935|        7324|                   1|      Yes|                 13|                 3|                        2|                 2|                  1|                2|               1|                      0|\n",
      "| 53|       No|    Travel_Rarely|      1219|               Sales|                 2|        4|  Life Sciences|             23|                       1|Female|         78|              2|        4|             Manager|               4|       Married|         15427|       22021|                   2|       No|                 16|                 3|                        3|                 0|                 31|                3|              25|                      7|\n",
      "| 38|       No|    Travel_Rarely|       371|Research & Develo...|                 2|        3|  Life Sciences|             24|                       4|  Male|         45|              3|        1|  Research Scientist|               4|        Single|          3944|        4306|                   5|      Yes|                 11|                 3|                        3|                 0|                  6|                3|               3|                      2|\n",
      "+---+---------+-----------------+----------+--------------------+------------------+---------+---------------+---------------+------------------------+------+-----------+---------------+---------+--------------------+----------------+--------------+--------------+------------+--------------------+---------+-------------------+------------------+-------------------------+------------------+-------------------+-----------------+----------------+-----------------------+\n",
      "only showing top 20 rows\n",
      "\n"
     ]
    }
   ],
   "source": [
    "Format_dict = {\n",
    "    \n",
    "    \"BusinessTravel\": \"business_travel\",\n",
    "    \"DailyRate\": \"daily_rate\",\n",
    "    \"DistanceFromHome\": \"distance_from_home\",\n",
    "    \"EducationField\": \"education_field\",\n",
    "    \"EmployeeNumber\" : \"employee_number\",\n",
    "    \"EnvironmentSatisfaction\": \"environment_satisfaction\",\n",
    "    \"HourlyRate\": \"hourly_rate\",  \n",
    "    \"JobInvolvement\": \"job_involvement\",\n",
    "    \"JobLevel\": \"job_level\",\n",
    "    \"JobRole\": \"job_role\",\n",
    "    \"JobSatisfaction\": \"job_satisfaction\",\n",
    "    \"MaritalStatus\": \"marital_status\",\n",
    "    \"MonthlyIncome\" : \"monthly_income\",\n",
    "    \"MonthlyRate\": \"monthly_rate\",\n",
    "    \"NumCompaniesWorked\": \"num_companies_worked\",\n",
    "    \"OverTime\": \"over_time\",\n",
    "    \"PercentSalaryHike\": \"percent_salary_hike\",\n",
    "    \"PerformanceRating\": \"performance_rating\",\n",
    "    \"RelationshipSatisfaction\": \"relationship_satisfaction\",\n",
    "    \"StockOptionLevel\": \"stock_option_level\",\n",
    "    \"TotalWorkingYears\": \"total_working_years\",\n",
    "    \"TrainingTimesLastYear\": \"training_times_last_year\",\n",
    "    \"WorkLifeBalance\": \"work_life_balance\",\n",
    "    \"YearsAtCompany\": \"years_at_company\",\n",
    "    \"YearsInCurrentRole\": \"years_in_current_role\",\n",
    "    \"YearsWithCurrManager\": \"years_with_curr_manager\",\n",
    "}\n",
    "\n",
    "for old_name, new_name in Format_dict.items():\n",
    "    Attrition_df = Attrition_df.withColumnRenamed(old_name, new_name)\n",
    "\n",
    "Attrition_df.show()"
   ]
  },
  {
   "cell_type": "code",
   "execution_count": 5,
   "metadata": {},
   "outputs": [
    {
     "name": "stdout",
     "output_type": "stream",
     "text": [
      "+---+---------+-----------------+----------+--------------------+------------------+---------+----------------+---------------+------------------------+------+-----------+---------------+---------+--------------------+----------------+--------------+--------------+------------+--------------------+---------+-------------------+------------------+-------------------------+------------------+-------------------+-----------------+----------------+-----------------------+\n",
      "|Age|Attrition|  business_travel|daily_rate|          Department|distance_from_home|Education| education_field|employee_number|environment_satisfaction|Gender|hourly_rate|job_involvement|job_level|            job_role|job_satisfaction|marital_status|monthly_income|monthly_rate|num_companies_worked|over_time|percent_salary_hike|performance_rating|relationship_satisfaction|stock_option_level|total_working_years|work_life_balance|years_at_company|years_with_curr_manager|\n",
      "+---+---------+-----------------+----------+--------------------+------------------+---------+----------------+---------------+------------------------+------+-----------+---------------+---------+--------------------+----------------+--------------+--------------+------------+--------------------+---------+-------------------+------------------+-------------------------+------------------+-------------------+-----------------+----------------+-----------------------+\n",
      "| 30|       No|    Travel_Rarely|       288|Research & Develo...|                 2|        3|   Life Sciences|            117|                       3|  Male|         99|              2|        2|Healthcare Repres...|               4|       Married|          4152|       15830|                   1|       No|                 19|                 3|                        1|                 3|                 11|                3|              11|                      8|\n",
      "| 33|      Yes|    Travel_Rarely|       813|Research & Develo...|                14|        3|         Medical|            325|                       3|  Male|         58|              3|        1|Laboratory Techni...|               4|       Married|          2436|       22149|                   5|      Yes|                 13|                 3|                        3|                 1|                  8|                1|               5|                      4|\n",
      "| 37|       No|Travel_Frequently|       889|Research & Develo...|                 9|        3|         Medical|            403|                       2|  Male|         53|              3|        1|  Research Scientist|               4|       Married|          2326|       11411|                   1|      Yes|                 12|                 3|                        3|                 3|                  4|                2|               4|                      2|\n",
      "| 43|       No|Travel_Frequently|      1001|Research & Develo...|                 9|        5|         Medical|            663|                       4|  Male|         72|              3|        2|Laboratory Techni...|               3|      Divorced|          5679|       19627|                   3|      Yes|                 13|                 3|                        2|                 1|                 10|                3|               8|                      7|\n",
      "| 34|       No|    Travel_Rarely|       121|Research & Develo...|                 2|        4|         Medical|            804|                       3|Female|         86|              2|        1|  Research Scientist|               1|        Single|          4381|        7530|                   1|       No|                 11|                 3|                        3|                 0|                  6|                3|               6|                      3|\n",
      "| 33|      Yes|    Travel_Rarely|       118|               Sales|                16|        3|       Marketing|            819|                       1|Female|         69|              3|        2|     Sales Executive|               1|        Single|          5324|       26507|                   5|       No|                 15|                 3|                        3|                 0|                  6|                3|               3|                      2|\n",
      "| 41|       No|    Travel_Rarely|       263|Research & Develo...|                 6|        3|         Medical|            957|                       4|  Male|         59|              3|        1|Laboratory Techni...|               1|        Single|          4721|        3119|                   2|      Yes|                 13|                 3|                        3|                 0|                 20|                3|              18|                     17|\n",
      "| 38|       No|    Travel_Rarely|      1035|               Sales|                 3|        4|   Life Sciences|           1036|                       2|  Male|         42|              3|        2|     Sales Executive|               4|        Single|          6861|        4981|                   8|      Yes|                 12|                 3|                        3|                 0|                 19|                3|               1|                      0|\n",
      "| 53|       No|Travel_Frequently|       124|               Sales|                 2|        3|       Marketing|           1050|                       3|Female|         38|              2|        3|     Sales Executive|               2|       Married|          7525|       23537|                   2|       No|                 12|                 3|                        1|                 1|                 30|                3|              15|                     12|\n",
      "| 36|       No|    Travel_Rarely|      1157|               Sales|                 2|        4|   Life Sciences|           1556|                       3|  Male|         70|              3|        1|Sales Representative|               4|        Single|          2644|       17001|                   3|      Yes|                 21|                 4|                        4|                 0|                  7|                2|               3|                      2|\n",
      "| 45|       No|    Travel_Rarely|      1015|Research & Develo...|                 5|        5|         Medical|           1611|                       3|Female|         50|              1|        2|Laboratory Techni...|               1|        Single|          5769|       23447|                   1|      Yes|                 14|                 3|                        1|                 0|                 10|                3|              10|                      4|\n",
      "| 45|       No|    Travel_Rarely|      1329|Research & Develo...|                 2|        2|           Other|           1635|                       4|Female|         59|              2|        2|Manufacturing Dir...|               4|      Divorced|          5770|        5388|                   1|       No|                 19|                 3|                        1|                 2|                 10|                3|              10|                      9|\n",
      "| 34|       No|       Non-Travel|      1375|               Sales|                10|        3|   Life Sciences|           1774|                       4|  Male|         87|              3|        2|     Sales Executive|               3|      Divorced|          4001|       12313|                   1|      Yes|                 14|                 3|                        3|                 1|                 15|                3|              15|                      7|\n",
      "| 42|       No|    Travel_Rarely|      1128|Research & Develo...|                13|        3|         Medical|           1803|                       2|  Male|         95|              4|        2|Healthcare Repres...|               1|       Married|          5538|        5696|                   5|       No|                 18|                 3|                        3|                 2|                 10|                2|               0|                      0|\n",
      "| 57|       No|    Travel_Rarely|       334|Research & Develo...|                24|        2|   Life Sciences|            223|                       3|  Male|         83|              4|        3|Healthcare Repres...|               4|      Divorced|          9439|       23402|                   3|      Yes|                 16|                 3|                        2|                 1|                 12|                1|               5|                      4|\n",
      "| 40|       No|       Non-Travel|      1151|Research & Develo...|                 9|        5|   Life Sciences|            287|                       4|  Male|         63|              2|        2|Healthcare Repres...|               4|       Married|          4876|       14242|                   9|       No|                 14|                 3|                        4|                 1|                  5|                1|               3|                      2|\n",
      "| 21|      Yes|    Travel_Rarely|      1427|Research & Develo...|                18|        1|           Other|            923|                       4|Female|         65|              3|        1|  Research Scientist|               4|        Single|          2693|        8870|                   1|       No|                 19|                 3|                        1|                 0|                  1|                2|               1|                      0|\n",
      "| 35|       No|    Travel_Rarely|       660|               Sales|                 7|        1|   Life Sciences|           1492|                       4|  Male|         76|              3|        1|Sales Representative|               3|       Married|          2404|       16192|                   1|       No|                 13|                 3|                        1|                 1|                  1|                3|               1|                      0|\n",
      "| 34|       No|    Travel_Rarely|       971|               Sales|                 1|        3|Technical Degree|           1535|                       4|  Male|         64|              2|        3|     Sales Executive|               3|       Married|          7083|       12288|                   1|      Yes|                 14|                 3|                        4|                 0|                 10|                3|              10|                      6|\n",
      "| 30|       No|Travel_Frequently|      1312|Research & Develo...|                23|        3|   Life Sciences|            159|                       1|  Male|         96|              1|        1|  Research Scientist|               3|      Divorced|          2613|       22310|                   1|       No|                 25|                 4|                        3|                 3|                 10|                2|              10|                      9|\n",
      "+---+---------+-----------------+----------+--------------------+------------------+---------+----------------+---------------+------------------------+------+-----------+---------------+---------+--------------------+----------------+--------------+--------------+------------+--------------------+---------+-------------------+------------------+-------------------------+------------------+-------------------+-----------------+----------------+-----------------------+\n",
      "only showing top 20 rows\n",
      "\n"
     ]
    }
   ],
   "source": [
    "Attrition_df = Attrition_df.dropDuplicates()\n",
    "\n",
    "Attrition_df.show()"
   ]
  },
  {
   "cell_type": "code",
   "execution_count": 6,
   "metadata": {},
   "outputs": [
    {
     "name": "stdout",
     "output_type": "stream",
     "text": [
      "+---+---------+-----------------+----------+--------------------+------------------+---------+----------------+---------------+------------------------+------+-----------+---------------+---------+--------------------+----------------+--------------+--------------+------------+--------------------+---------+-------------------+------------------+-------------------------+------------------+-------------------+-----------------+----------------+-----------------------+\n",
      "|Age|Attrition|  business_travel|daily_rate|          Department|distance_from_home|Education| education_field|employee_number|environment_satisfaction|Gender|hourly_rate|job_involvement|job_level|            job_role|job_satisfaction|marital_status|monthly_income|monthly_rate|num_companies_worked|over_time|percent_salary_hike|performance_rating|relationship_satisfaction|stock_option_level|total_working_years|work_life_balance|years_at_company|years_with_curr_manager|\n",
      "+---+---------+-----------------+----------+--------------------+------------------+---------+----------------+---------------+------------------------+------+-----------+---------------+---------+--------------------+----------------+--------------+--------------+------------+--------------------+---------+-------------------+------------------+-------------------------+------------------+-------------------+-----------------+----------------+-----------------------+\n",
      "| 30|       No|    Travel_Rarely|       288|Research & Develo...|                 2|        3|   Life Sciences|            117|                       3|  Male|         99|              2|        2|Healthcare Repres...|               4|       Married|          4152|       15830|                   1|       No|                 19|                 3|                        1|                 3|                 11|                3|              11|                      8|\n",
      "| 33|      Yes|    Travel_Rarely|       813|Research & Develo...|                14|        3|         Medical|            325|                       3|  Male|         58|              3|        1|Laboratory Techni...|               4|       Married|          2436|       22149|                   5|      Yes|                 13|                 3|                        3|                 1|                  8|                1|               5|                      4|\n",
      "| 37|       No|Travel_Frequently|       889|Research & Develo...|                 9|        3|         Medical|            403|                       2|  Male|         53|              3|        1|  Research Scientist|               4|       Married|          2326|       11411|                   1|      Yes|                 12|                 3|                        3|                 3|                  4|                2|               4|                      2|\n",
      "| 43|       No|Travel_Frequently|      1001|Research & Develo...|                 9|        5|         Medical|            663|                       4|  Male|         72|              3|        2|Laboratory Techni...|               3|      Divorced|          5679|       19627|                   3|      Yes|                 13|                 3|                        2|                 1|                 10|                3|               8|                      7|\n",
      "| 34|       No|    Travel_Rarely|       121|Research & Develo...|                 2|        4|         Medical|            804|                       3|Female|         86|              2|        1|  Research Scientist|               1|        Single|          4381|        7530|                   1|       No|                 11|                 3|                        3|                 0|                  6|                3|               6|                      3|\n",
      "| 33|      Yes|    Travel_Rarely|       118|               Sales|                16|        3|       Marketing|            819|                       1|Female|         69|              3|        2|     Sales Executive|               1|        Single|          5324|       26507|                   5|       No|                 15|                 3|                        3|                 0|                  6|                3|               3|                      2|\n",
      "| 41|       No|    Travel_Rarely|       263|Research & Develo...|                 6|        3|         Medical|            957|                       4|  Male|         59|              3|        1|Laboratory Techni...|               1|        Single|          4721|        3119|                   2|      Yes|                 13|                 3|                        3|                 0|                 20|                3|              18|                     17|\n",
      "| 38|       No|    Travel_Rarely|      1035|               Sales|                 3|        4|   Life Sciences|           1036|                       2|  Male|         42|              3|        2|     Sales Executive|               4|        Single|          6861|        4981|                   8|      Yes|                 12|                 3|                        3|                 0|                 19|                3|               1|                      0|\n",
      "| 53|       No|Travel_Frequently|       124|               Sales|                 2|        3|       Marketing|           1050|                       3|Female|         38|              2|        3|     Sales Executive|               2|       Married|          7525|       23537|                   2|       No|                 12|                 3|                        1|                 1|                 30|                3|              15|                     12|\n",
      "| 36|       No|    Travel_Rarely|      1157|               Sales|                 2|        4|   Life Sciences|           1556|                       3|  Male|         70|              3|        1|Sales Representative|               4|        Single|          2644|       17001|                   3|      Yes|                 21|                 4|                        4|                 0|                  7|                2|               3|                      2|\n",
      "| 45|       No|    Travel_Rarely|      1015|Research & Develo...|                 5|        5|         Medical|           1611|                       3|Female|         50|              1|        2|Laboratory Techni...|               1|        Single|          5769|       23447|                   1|      Yes|                 14|                 3|                        1|                 0|                 10|                3|              10|                      4|\n",
      "| 45|       No|    Travel_Rarely|      1329|Research & Develo...|                 2|        2|           Other|           1635|                       4|Female|         59|              2|        2|Manufacturing Dir...|               4|      Divorced|          5770|        5388|                   1|       No|                 19|                 3|                        1|                 2|                 10|                3|              10|                      9|\n",
      "| 34|       No|       Non-Travel|      1375|               Sales|                10|        3|   Life Sciences|           1774|                       4|  Male|         87|              3|        2|     Sales Executive|               3|      Divorced|          4001|       12313|                   1|      Yes|                 14|                 3|                        3|                 1|                 15|                3|              15|                      7|\n",
      "| 42|       No|    Travel_Rarely|      1128|Research & Develo...|                13|        3|         Medical|           1803|                       2|  Male|         95|              4|        2|Healthcare Repres...|               1|       Married|          5538|        5696|                   5|       No|                 18|                 3|                        3|                 2|                 10|                2|               0|                      0|\n",
      "| 57|       No|    Travel_Rarely|       334|Research & Develo...|                24|        2|   Life Sciences|            223|                       3|  Male|         83|              4|        3|Healthcare Repres...|               4|      Divorced|          9439|       23402|                   3|      Yes|                 16|                 3|                        2|                 1|                 12|                1|               5|                      4|\n",
      "| 40|       No|       Non-Travel|      1151|Research & Develo...|                 9|        5|   Life Sciences|            287|                       4|  Male|         63|              2|        2|Healthcare Repres...|               4|       Married|          4876|       14242|                   9|       No|                 14|                 3|                        4|                 1|                  5|                1|               3|                      2|\n",
      "| 21|      Yes|    Travel_Rarely|      1427|Research & Develo...|                18|        1|           Other|            923|                       4|Female|         65|              3|        1|  Research Scientist|               4|        Single|          2693|        8870|                   1|       No|                 19|                 3|                        1|                 0|                  1|                2|               1|                      0|\n",
      "| 35|       No|    Travel_Rarely|       660|               Sales|                 7|        1|   Life Sciences|           1492|                       4|  Male|         76|              3|        1|Sales Representative|               3|       Married|          2404|       16192|                   1|       No|                 13|                 3|                        1|                 1|                  1|                3|               1|                      0|\n",
      "| 34|       No|    Travel_Rarely|       971|               Sales|                 1|        3|Technical Degree|           1535|                       4|  Male|         64|              2|        3|     Sales Executive|               3|       Married|          7083|       12288|                   1|      Yes|                 14|                 3|                        4|                 0|                 10|                3|              10|                      6|\n",
      "| 30|       No|Travel_Frequently|      1312|Research & Develo...|                23|        3|   Life Sciences|            159|                       1|  Male|         96|              1|        1|  Research Scientist|               3|      Divorced|          2613|       22310|                   1|       No|                 25|                 4|                        3|                 3|                 10|                2|              10|                      9|\n",
      "+---+---------+-----------------+----------+--------------------+------------------+---------+----------------+---------------+------------------------+------+-----------+---------------+---------+--------------------+----------------+--------------+--------------+------------+--------------------+---------+-------------------+------------------+-------------------------+------------------+-------------------+-----------------+----------------+-----------------------+\n",
      "only showing top 20 rows\n",
      "\n"
     ]
    }
   ],
   "source": [
    "Attrition_df = Attrition_df.dropna()\n",
    "\n",
    "Attrition_df.show()"
   ]
  },
  {
   "cell_type": "code",
   "execution_count": 8,
   "metadata": {},
   "outputs": [
    {
     "name": "stdout",
     "output_type": "stream",
     "text": [
      "+---+---------+-----------------+----------+--------------------+------------------+---------+----------------+---------------+------------------------+------+-----------+---------------+---------+--------------------+----------------+--------------+--------------+------------+--------------------+---------+-------------------+------------------+-------------------------+------------------+-------------------+-----------------+----------------+-----------------------+\n",
      "|Age|Attrition|  business_travel|daily_rate|          Department|distance_from_home|Education| education_field|employee_number|environment_satisfaction|Gender|hourly_rate|job_involvement|job_level|            job_role|job_satisfaction|marital_status|monthly_income|monthly_rate|num_companies_worked|over_time|percent_salary_hike|performance_rating|relationship_satisfaction|stock_option_level|total_working_years|work_life_balance|years_at_company|years_with_curr_manager|\n",
      "+---+---------+-----------------+----------+--------------------+------------------+---------+----------------+---------------+------------------------+------+-----------+---------------+---------+--------------------+----------------+--------------+--------------+------------+--------------------+---------+-------------------+------------------+-------------------------+------------------+-------------------+-----------------+----------------+-----------------------+\n",
      "| 18|       No|       Non-Travel|       287|Research & Develo...|                 5|        2|   Life Sciences|           1012|                       2|  Male|         73|              3|        1|  Research Scientist|               4|        Single|          1051|       13493|                   1|       No|                 15|                 3|                        4|                 0|                  0|                3|               0|                      0|\n",
      "| 18|      Yes|Travel_Frequently|       544|               Sales|                 3|        2|         Medical|           1624|                       2|Female|         70|              3|        1|Sales Representative|               4|        Single|          1569|       18420|                   1|      Yes|                 12|                 3|                        3|                 0|                  0|                4|               0|                      0|\n",
      "| 18|      Yes|Travel_Frequently|      1306|               Sales|                 5|        3|       Marketing|            614|                       2|  Male|         69|              3|        1|Sales Representative|               2|        Single|          1878|        8059|                   1|      Yes|                 14|                 3|                        4|                 0|                  0|                3|               0|                      0|\n",
      "| 18|       No|       Non-Travel|      1124|Research & Develo...|                 1|        3|   Life Sciences|           1368|                       4|Female|         97|              3|        1|Laboratory Techni...|               4|        Single|          1611|       19305|                   1|       No|                 15|                 3|                        3|                 0|                  0|                4|               0|                      0|\n",
      "| 18|       No|       Non-Travel|      1431|Research & Develo...|                14|        3|         Medical|           1839|                       2|Female|         33|              3|        1|  Research Scientist|               3|        Single|          1514|        8018|                   1|       No|                 16|                 3|                        3|                 0|                  0|                1|               0|                      0|\n",
      "| 18|       No|    Travel_Rarely|       812|               Sales|                10|        3|         Medical|            411|                       4|Female|         69|              2|        1|Sales Representative|               3|        Single|          1200|        9724|                   1|       No|                 12|                 3|                        1|                 0|                  0|                3|               0|                      0|\n",
      "| 18|      Yes|    Travel_Rarely|       230|Research & Develo...|                 3|        3|   Life Sciences|            405|                       3|  Male|         54|              3|        1|Laboratory Techni...|               3|        Single|          1420|       25233|                   1|       No|                 13|                 3|                        3|                 0|                  0|                3|               0|                      0|\n",
      "| 18|      Yes|       Non-Travel|       247|Research & Develo...|                 8|        1|         Medical|           1156|                       3|  Male|         80|              3|        1|Laboratory Techni...|               3|        Single|          1904|       13556|                   1|       No|                 12|                 3|                        4|                 0|                  0|                3|               0|                      0|\n",
      "| 19|       No|    Travel_Rarely|       645|Research & Develo...|                 9|        2|   Life Sciences|           1193|                       3|  Male|         54|              3|        1|  Research Scientist|               1|        Single|          2552|        7172|                   1|       No|                 25|                 4|                        3|                 0|                  1|                3|               1|                      0|\n",
      "| 19|      Yes|Travel_Frequently|       602|               Sales|                 1|        1|Technical Degree|            235|                       3|Female|        100|              1|        1|Sales Representative|               1|        Single|          2325|       20989|                   0|       No|                 21|                 4|                        1|                 0|                  1|                4|               0|                      0|\n",
      "| 19|      Yes|    Travel_Rarely|       419|               Sales|                21|        3|           Other|            959|                       4|  Male|         37|              2|        1|Sales Representative|               2|        Single|          2121|        9947|                   1|      Yes|                 13|                 3|                        2|                 0|                  1|                4|               1|                      0|\n",
      "| 19|      Yes|    Travel_Rarely|       303|Research & Develo...|                 2|        3|   Life Sciences|            243|                       2|  Male|         47|              2|        1|Laboratory Techni...|               4|        Single|          1102|        9241|                   1|       No|                 22|                 4|                        3|                 0|                  1|                2|               1|                      0|\n",
      "| 19|       No|    Travel_Rarely|       265|Research & Develo...|                25|        3|   Life Sciences|           1269|                       2|Female|         57|              4|        1|  Research Scientist|               4|        Single|          2994|       21221|                   1|      Yes|                 12|                 3|                        4|                 0|                  1|                3|               1|                      1|\n",
      "| 19|       No|    Travel_Rarely|      1181|Research & Develo...|                 3|        1|         Medical|            201|                       2|Female|         79|              3|        1|Laboratory Techni...|               2|        Single|          1483|       16102|                   1|       No|                 14|                 3|                        4|                 0|                  1|                3|               1|                      0|\n",
      "| 19|      Yes|    Travel_Rarely|       528|               Sales|                22|        1|       Marketing|            167|                       4|  Male|         50|              3|        1|Sales Representative|               3|        Single|          1675|       26820|                   1|      Yes|                 19|                 3|                        4|                 0|                  0|                2|               0|                      0|\n",
      "| 19|      Yes|    Travel_Rarely|       489|     Human Resources|                 2|        2|Technical Degree|            566|                       1|  Male|         52|              2|        1|     Human Resources|               4|        Single|          2564|       18437|                   1|       No|                 12|                 3|                        3|                 0|                  1|                4|               1|                      0|\n",
      "| 19|      Yes|       Non-Travel|       504|Research & Develo...|                10|        3|         Medical|           1248|                       1|Female|         96|              2|        1|  Research Scientist|               2|        Single|          1859|        6148|                   1|      Yes|                 25|                 4|                        2|                 0|                  1|                4|               1|                      0|\n",
      "| 20|      Yes|    Travel_Rarely|       500|               Sales|                 2|        3|         Medical|            922|                       3|Female|         49|              2|        1|Sales Representative|               3|        Single|          2044|       22052|                   1|       No|                 13|                 3|                        4|                 0|                  2|                2|               2|                      2|\n",
      "| 20|       No|    Travel_Rarely|      1141|               Sales|                 2|        3|         Medical|           1657|                       3|Female|         31|              3|        1|Sales Representative|               3|        Single|          2783|       13251|                   1|       No|                 19|                 3|                        1|                 0|                  2|                3|               2|                      2|\n",
      "| 20|       No|    Travel_Rarely|       727|               Sales|                 9|        1|   Life Sciences|           1680|                       4|  Male|         54|              3|        1|Sales Representative|               1|        Single|          2728|       21082|                   1|       No|                 11|                 3|                        1|                 0|                  2|                3|               2|                      2|\n",
      "+---+---------+-----------------+----------+--------------------+------------------+---------+----------------+---------------+------------------------+------+-----------+---------------+---------+--------------------+----------------+--------------+--------------+------------+--------------------+---------+-------------------+------------------+-------------------------+------------------+-------------------+-----------------+----------------+-----------------------+\n",
      "only showing top 20 rows\n",
      "\n"
     ]
    }
   ],
   "source": [
    "Attrition_df = Attrition_df.orderBy(\"Age\", ascending=True)\n",
    "\n",
    "Attrition_df.show()"
   ]
  },
  {
   "cell_type": "code",
   "execution_count": null,
   "metadata": {},
   "outputs": [],
   "source": [
    "# PostgreSQL Database details\n",
    "url = \"jdbc:postgresql://your-database-url:5432/postgres\"\n",
    "properties = {\n",
    "    \"user\": \"postgres\",\n",
    "    \"password\": \\",\n",
    "    \"driver\": \"org.postgresql.Driver\"\n",
    "}\n",
    "\n",
    "# Save DataFrame to PostgreSQL database\n",
    "Attrition_df.write.jdbc(url=url, table=\"HR_att\", mode=\"overwrite\", properties=properties)\n"
   ]
  },
  {
   "cell_type": "code",
   "execution_count": 10,
   "metadata": {},
   "outputs": [
    {
     "name": "stdout",
     "output_type": "stream",
     "text": [
      "+------------------+\n",
      "|           avg_age|\n",
      "+------------------+\n",
      "|36.923809523809524|\n",
      "+------------------+\n",
      "\n"
     ]
    }
   ],
   "source": [
    "Attrition_df.createOrReplaceTempView(\"attrition_view\") #############################\n",
    "\n",
    "# Run SQL query to get the average age of employees\n",
    "average_age = spark.sql(\"SELECT AVG(age) AS avg_age FROM attrition_view\")\n",
    "\n",
    "# Show the result\n",
    "average_age.show()"
   ]
  },
  {
   "cell_type": "code",
   "execution_count": 11,
   "metadata": {},
   "outputs": [
    {
     "name": "stdout",
     "output_type": "stream",
     "text": [
      "+--------------------+-----+\n",
      "|          Department|count|\n",
      "+--------------------+-----+\n",
      "|Research & Develo...|  961|\n",
      "+--------------------+-----+\n",
      "\n"
     ]
    }
   ],
   "source": [
    "# 1. Most popular department (Department with most employees)\n",
    "most_popular_department = spark.sql(\"\"\"\n",
    "    SELECT Department, COUNT(*) AS count\n",
    "    FROM attrition_view\n",
    "    GROUP BY Department\n",
    "    ORDER BY count DESC\n",
    "    LIMIT 1\n",
    "\"\"\")\n",
    "most_popular_department.show()"
   ]
  },
  {
   "cell_type": "code",
   "execution_count": 12,
   "metadata": {},
   "outputs": [
    {
     "name": "stdout",
     "output_type": "stream",
     "text": [
      "+---------------+-----+\n",
      "|education_field|count|\n",
      "+---------------+-----+\n",
      "|  Life Sciences|  606|\n",
      "+---------------+-----+\n",
      "\n"
     ]
    }
   ],
   "source": [
    "# 3. Most common level of education (Mode of EducationField)\n",
    "most_common_education = spark.sql(\"\"\"\n",
    "                                  \n",
    "    SELECT education_field, COUNT(*) AS count\n",
    "    FROM attrition_view\n",
    "    GROUP BY education_field\n",
    "    ORDER BY count DESC\n",
    "    LIMIT 1\n",
    "\"\"\")\n",
    "most_common_education.show()"
   ]
  },
  {
   "cell_type": "code",
   "execution_count": 17,
   "metadata": {},
   "outputs": [
    {
     "name": "stdout",
     "output_type": "stream",
     "text": [
      "+-----------+\n",
      "|median_dist|\n",
      "+-----------+\n",
      "|          7|\n",
      "+-----------+\n",
      "\n"
     ]
    }
   ],
   "source": [
    "dist_home = spark.sql(\"\"\"\n",
    "    SELECT percentile_approx(distance_from_home, 0.5) AS median_dist\n",
    "    FROM attrition_view\n",
    "\"\"\")\n",
    "dist_home.show()"
   ]
  }
 ],
 "metadata": {
  "kernelspec": {
   "display_name": "Python 3",
   "language": "python",
   "name": "python3"
  },
  "language_info": {
   "codemirror_mode": {
    "name": "ipython",
    "version": 3
   },
   "file_extension": ".py",
   "mimetype": "text/x-python",
   "name": "python",
   "nbconvert_exporter": "python",
   "pygments_lexer": "ipython3",
   "version": "3.11.0"
  }
 },
 "nbformat": 4,
 "nbformat_minor": 2
}

